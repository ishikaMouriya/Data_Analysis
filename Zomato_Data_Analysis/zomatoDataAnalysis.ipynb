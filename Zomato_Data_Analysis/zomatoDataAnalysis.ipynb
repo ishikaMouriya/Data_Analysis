{
 "cells": [
  {
   "cell_type": "code",
   "execution_count": 2,
   "metadata": {},
   "outputs": [],
   "source": [
    "import pandas as pd\n",
    "import numpy as np\n",
    "import matplotlib.pyplot as plt\n",
    "import seaborn as sns\n"
   ]
  },
  {
   "cell_type": "code",
   "execution_count": 4,
   "metadata": {},
   "outputs": [
    {
     "data": {
      "text/html": [
       "<div>\n",
       "<style scoped>\n",
       "    .dataframe tbody tr th:only-of-type {\n",
       "        vertical-align: middle;\n",
       "    }\n",
       "\n",
       "    .dataframe tbody tr th {\n",
       "        vertical-align: top;\n",
       "    }\n",
       "\n",
       "    .dataframe thead th {\n",
       "        text-align: right;\n",
       "    }\n",
       "</style>\n",
       "<table border=\"1\" class=\"dataframe\">\n",
       "  <thead>\n",
       "    <tr style=\"text-align: right;\">\n",
       "      <th></th>\n",
       "      <th>name</th>\n",
       "      <th>online_order</th>\n",
       "      <th>book_table</th>\n",
       "      <th>rate</th>\n",
       "      <th>votes</th>\n",
       "      <th>approx_cost(for two people)</th>\n",
       "      <th>listed_in(type)</th>\n",
       "    </tr>\n",
       "  </thead>\n",
       "  <tbody>\n",
       "    <tr>\n",
       "      <th>0</th>\n",
       "      <td>Jalsa</td>\n",
       "      <td>Yes</td>\n",
       "      <td>Yes</td>\n",
       "      <td>4.1/5</td>\n",
       "      <td>775</td>\n",
       "      <td>800</td>\n",
       "      <td>Buffet</td>\n",
       "    </tr>\n",
       "    <tr>\n",
       "      <th>1</th>\n",
       "      <td>Spice Elephant</td>\n",
       "      <td>Yes</td>\n",
       "      <td>No</td>\n",
       "      <td>4.1/5</td>\n",
       "      <td>787</td>\n",
       "      <td>800</td>\n",
       "      <td>Buffet</td>\n",
       "    </tr>\n",
       "    <tr>\n",
       "      <th>2</th>\n",
       "      <td>San Churro Cafe</td>\n",
       "      <td>Yes</td>\n",
       "      <td>No</td>\n",
       "      <td>3.8/5</td>\n",
       "      <td>918</td>\n",
       "      <td>800</td>\n",
       "      <td>Buffet</td>\n",
       "    </tr>\n",
       "    <tr>\n",
       "      <th>3</th>\n",
       "      <td>Addhuri Udupi Bhojana</td>\n",
       "      <td>No</td>\n",
       "      <td>No</td>\n",
       "      <td>3.7/5</td>\n",
       "      <td>88</td>\n",
       "      <td>300</td>\n",
       "      <td>Buffet</td>\n",
       "    </tr>\n",
       "    <tr>\n",
       "      <th>4</th>\n",
       "      <td>Grand Village</td>\n",
       "      <td>No</td>\n",
       "      <td>No</td>\n",
       "      <td>3.8/5</td>\n",
       "      <td>166</td>\n",
       "      <td>600</td>\n",
       "      <td>Buffet</td>\n",
       "    </tr>\n",
       "  </tbody>\n",
       "</table>\n",
       "</div>"
      ],
      "text/plain": [
       "                    name online_order book_table   rate  votes  \\\n",
       "0                  Jalsa          Yes        Yes  4.1/5    775   \n",
       "1         Spice Elephant          Yes         No  4.1/5    787   \n",
       "2        San Churro Cafe          Yes         No  3.8/5    918   \n",
       "3  Addhuri Udupi Bhojana           No         No  3.7/5     88   \n",
       "4          Grand Village           No         No  3.8/5    166   \n",
       "\n",
       "   approx_cost(for two people) listed_in(type)  \n",
       "0                          800          Buffet  \n",
       "1                          800          Buffet  \n",
       "2                          800          Buffet  \n",
       "3                          300          Buffet  \n",
       "4                          600          Buffet  "
      ]
     },
     "execution_count": 4,
     "metadata": {},
     "output_type": "execute_result"
    }
   ],
   "source": [
    "dataframe=pd.read_csv('Zomato_data .csv')\n",
    "dataframe.head()"
   ]
  },
  {
   "cell_type": "markdown",
   "metadata": {},
   "source": [
    "# Convert the data type of column-rate\n"
   ]
  },
  {
   "cell_type": "code",
   "execution_count": null,
   "metadata": {},
   "outputs": [
    {
     "name": "stdout",
     "output_type": "stream",
     "text": [
      "                    name online_order book_table  rate  votes  \\\n",
      "0                  Jalsa          Yes        Yes   4.1    775   \n",
      "1         Spice Elephant          Yes         No   4.1    787   \n",
      "2        San Churro Cafe          Yes         No   3.8    918   \n",
      "3  Addhuri Udupi Bhojana           No         No   3.7     88   \n",
      "4          Grand Village           No         No   3.8    166   \n",
      "\n",
      "   approx_cost(for two people) listed_in(type)  \n",
      "0                          800          Buffet  \n",
      "1                          800          Buffet  \n",
      "2                          800          Buffet  \n",
      "3                          300          Buffet  \n",
      "4                          600          Buffet  \n"
     ]
    }
   ],
   "source": [
    "def handleRate(value):\n",
    "    value=str(value).split('/') #<--4.1/5.split(\"/\") gives only 4.1 as 4.1/5 is in string.\n",
    "    value=value[0] #<--return 4.1\n",
    "    return float(value)\n",
    "\n",
    "dataframe['rate']=dataframe['rate'].apply(handleRate) #<-.apply(): Applies a function handleRate to each element of the 'rate' column.\n",
    "print(dataframe.head())\n"
   ]
  },
  {
   "cell_type": "code",
   "execution_count": 7,
   "metadata": {},
   "outputs": [
    {
     "name": "stdout",
     "output_type": "stream",
     "text": [
      "<class 'pandas.core.frame.DataFrame'>\n",
      "RangeIndex: 148 entries, 0 to 147\n",
      "Data columns (total 7 columns):\n",
      " #   Column                       Non-Null Count  Dtype  \n",
      "---  ------                       --------------  -----  \n",
      " 0   name                         148 non-null    object \n",
      " 1   online_order                 148 non-null    object \n",
      " 2   book_table                   148 non-null    object \n",
      " 3   rate                         148 non-null    float64\n",
      " 4   votes                        148 non-null    int64  \n",
      " 5   approx_cost(for two people)  148 non-null    int64  \n",
      " 6   listed_in(type)              148 non-null    object \n",
      "dtypes: float64(1), int64(2), object(4)\n",
      "memory usage: 8.2+ KB\n"
     ]
    }
   ],
   "source": [
    "dataframe.info()"
   ]
  },
  {
   "cell_type": "markdown",
   "metadata": {},
   "source": [
    "# Type of restraunt"
   ]
  },
  {
   "cell_type": "code",
   "execution_count": 8,
   "metadata": {},
   "outputs": [
    {
     "data": {
      "text/html": [
       "<div>\n",
       "<style scoped>\n",
       "    .dataframe tbody tr th:only-of-type {\n",
       "        vertical-align: middle;\n",
       "    }\n",
       "\n",
       "    .dataframe tbody tr th {\n",
       "        vertical-align: top;\n",
       "    }\n",
       "\n",
       "    .dataframe thead th {\n",
       "        text-align: right;\n",
       "    }\n",
       "</style>\n",
       "<table border=\"1\" class=\"dataframe\">\n",
       "  <thead>\n",
       "    <tr style=\"text-align: right;\">\n",
       "      <th></th>\n",
       "      <th>name</th>\n",
       "      <th>online_order</th>\n",
       "      <th>book_table</th>\n",
       "      <th>rate</th>\n",
       "      <th>votes</th>\n",
       "      <th>approx_cost(for two people)</th>\n",
       "      <th>listed_in(type)</th>\n",
       "    </tr>\n",
       "  </thead>\n",
       "  <tbody>\n",
       "    <tr>\n",
       "      <th>0</th>\n",
       "      <td>Jalsa</td>\n",
       "      <td>Yes</td>\n",
       "      <td>Yes</td>\n",
       "      <td>4.1</td>\n",
       "      <td>775</td>\n",
       "      <td>800</td>\n",
       "      <td>Buffet</td>\n",
       "    </tr>\n",
       "    <tr>\n",
       "      <th>1</th>\n",
       "      <td>Spice Elephant</td>\n",
       "      <td>Yes</td>\n",
       "      <td>No</td>\n",
       "      <td>4.1</td>\n",
       "      <td>787</td>\n",
       "      <td>800</td>\n",
       "      <td>Buffet</td>\n",
       "    </tr>\n",
       "    <tr>\n",
       "      <th>2</th>\n",
       "      <td>San Churro Cafe</td>\n",
       "      <td>Yes</td>\n",
       "      <td>No</td>\n",
       "      <td>3.8</td>\n",
       "      <td>918</td>\n",
       "      <td>800</td>\n",
       "      <td>Buffet</td>\n",
       "    </tr>\n",
       "    <tr>\n",
       "      <th>3</th>\n",
       "      <td>Addhuri Udupi Bhojana</td>\n",
       "      <td>No</td>\n",
       "      <td>No</td>\n",
       "      <td>3.7</td>\n",
       "      <td>88</td>\n",
       "      <td>300</td>\n",
       "      <td>Buffet</td>\n",
       "    </tr>\n",
       "    <tr>\n",
       "      <th>4</th>\n",
       "      <td>Grand Village</td>\n",
       "      <td>No</td>\n",
       "      <td>No</td>\n",
       "      <td>3.8</td>\n",
       "      <td>166</td>\n",
       "      <td>600</td>\n",
       "      <td>Buffet</td>\n",
       "    </tr>\n",
       "  </tbody>\n",
       "</table>\n",
       "</div>"
      ],
      "text/plain": [
       "                    name online_order book_table  rate  votes  \\\n",
       "0                  Jalsa          Yes        Yes   4.1    775   \n",
       "1         Spice Elephant          Yes         No   4.1    787   \n",
       "2        San Churro Cafe          Yes         No   3.8    918   \n",
       "3  Addhuri Udupi Bhojana           No         No   3.7     88   \n",
       "4          Grand Village           No         No   3.8    166   \n",
       "\n",
       "   approx_cost(for two people) listed_in(type)  \n",
       "0                          800          Buffet  \n",
       "1                          800          Buffet  \n",
       "2                          800          Buffet  \n",
       "3                          300          Buffet  \n",
       "4                          600          Buffet  "
      ]
     },
     "execution_count": 8,
     "metadata": {},
     "output_type": "execute_result"
    }
   ],
   "source": [
    "dataframe.head()"
   ]
  },
  {
   "cell_type": "code",
   "execution_count": 22,
   "metadata": {},
   "outputs": [
    {
     "data": {
      "text/plain": [
       "Text(0.5, 0, 'type of restraunt')"
      ]
     },
     "execution_count": 22,
     "metadata": {},
     "output_type": "execute_result"
    },
    {
     "data": {
      "image/png": "[encoded data removed]",
      "text/plain": [
       "<Figure size 640x480 with 1 Axes>"
      ]
     },
     "metadata": {},
     "output_type": "display_data"
    }
   ],
   "source": [
    "sns.countplot(x=dataframe['listed_in(type)'])  #it counts the different options under listed_in(type) \n",
    "plt.xlabel(\"type of restraunt\")"
   ]
  },
  {
   "cell_type": "markdown",
   "metadata": {},
   "source": [
    "# Conclusion-majority of restaurant falls in dining category"
   ]
  },
  {
   "cell_type": "code",
   "execution_count": 10,
   "metadata": {},
   "outputs": [
    {
     "data": {
      "text/plain": [
       "<BarContainer object of 148 artists>"
      ]
     },
     "execution_count": 10,
     "metadata": {},
     "output_type": "execute_result"
    },
    {
     "data": {
      "image/png": "[encoded data removed]",
      "text/plain": [
       "<Figure size 640x480 with 1 Axes>"
      ]
     },
     "metadata": {},
     "output_type": "display_data"
    }
   ],
   "source": [
    "#plt.bar(dataframe['name'],dataframe['votes'])"
   ]
  },
  {
   "cell_type": "code",
   "execution_count": 18,
   "metadata": {},
   "outputs": [
    {
     "name": "stdout",
     "output_type": "stream",
     "text": [
      "                                                name online_order book_table  rate  votes  approx_cost(for two people) listed_in(type)\n",
      "0                                              Jalsa          Yes        Yes   4.1    775                          800          Buffet\n",
      "1                                     Spice Elephant          Yes         No   4.1    787                          800          Buffet\n",
      "2                                    San Churro Cafe          Yes         No   3.8    918                          800          Buffet\n",
      "3                              Addhuri Udupi Bhojana           No         No   3.7     88                          300          Buffet\n",
      "4                                      Grand Village           No         No   3.8    166                          600          Buffet\n",
      "5                                    Timepass Dinner          Yes         No   3.8    286                          600          Buffet\n",
      "6    Rosewood International Hotel - Bar & Restaurant           No         No   3.6      8                          800          Buffet\n",
      "7                                             Onesta          Yes        Yes   4.6   2556                          600           Cafes\n",
      "8                                     Penthouse Cafe          Yes         No   4.0    324                          700           other\n",
      "9                                          Smacznego          Yes         No   4.2    504                          550           Cafes\n",
      "10                                      Village Café          Yes         No   4.1    402                          500           Cafes\n",
      "11                                      Cafe Shuffle          Yes        Yes   4.2    150                          600           Cafes\n",
      "12                                  The Coffee Shack          Yes        Yes   4.2    164                          500           Cafes\n",
      "13                                        Caf-Eleven           No         No   4.0    424                          450           Cafes\n",
      "14                                   San Churro Cafe          Yes         No   3.8    918                          800           Cafes\n",
      "15                                     Cafe Vivacity          Yes         No   3.8     90                          650           Cafes\n",
      "16                                      Catch-up-ino          Yes         No   3.9    133                          800           Cafes\n",
      "17                                  Kirthi's Biryani          Yes         No   3.8    144                          700           Cafes\n",
      "18                                          T3H Cafe           No         No   3.9     93                          300           Cafes\n",
      "19                     360 Atoms Restaurant And Cafe          Yes         No   3.1     13                          400           Cafes\n",
      "20                                  The Vintage Cafe          Yes         No   3.0     62                          400           Cafes\n",
      "21                                      Woodee Pizza          Yes         No   3.7    180                          500           Cafes\n",
      "22                                   Cafe Coffee Day           No         No   3.6     28                          900           Cafes\n",
      "23                                      My Tea House          Yes         No   3.6     62                          600           Cafes\n",
      "24                                     Hide Out Cafe           No         No   3.7     31                          300           Cafes\n",
      "25                                         CAFE NOVA           No         No   3.2     11                          600           Cafes\n",
      "26                                      Coffee Tindi          Yes         No   3.8     75                          200           Cafes\n",
      "27                                    Sea Green Cafe           No         No   3.3      4                          500           Cafes\n",
      "28                                             Cuppa           No         No   3.3     23                          550           Cafes\n",
      "29                                  Srinathji's Cafe           No         No   3.8    148                          550           Cafes\n",
      "30                                         Redberrys          Yes         No   4.0    219                          600           Cafes\n",
      "31                                        Foodiction          Yes         No   2.8    506                          500           other\n",
      "32                                       Sweet Truth          Yes         No   3.9     35                          500          Dining\n",
      "33                                   Ovenstory Pizza          Yes         No   3.9    172                          750          Dining\n",
      "34                                            Faasos          Yes         No   4.2    415                          500           other\n",
      "35                                   Behrouz Biryani          Yes         No   3.9    230                          650          Dining\n",
      "36                                    Fast And Fresh          Yes         No   2.8     91                          400          Dining\n",
      "37                                   Szechuan Dragon          Yes         No   4.2   1647                          600          Dining\n",
      "38                                 Empire Restaurant          Yes         No   4.4   4884                          750           other\n",
      "39                      Maruthi Davangere Benne Dosa          Yes         No   4.0     17                          150          Dining\n",
      "40                                         Chaatimes          Yes         No   3.8    133                          200          Dining\n",
      "41                                      Havyaka Mess           No         No   3.9     28                          300          Dining\n",
      "42                                        McDonald's          Yes         No   3.9    286                          500          Dining\n",
      "43                                    Domino's Pizza          Yes         No   3.9    540                          800          Dining\n",
      "44                                            Onesta          Yes        Yes   4.6   2556                          600           other\n",
      "45                                          Hotboxit           No         No   3.8     36                          400          Dining\n",
      "46                                    Kitchen Garden          Yes         No   3.6    244                          300          Dining\n",
      "47                                            Recipe          Yes         No   4.0    804                          450          Dining\n",
      "48                                     Beijing Bites          Yes         No   3.7    679                          850          Dining\n",
      "49                                       Tasty Bytes          Yes         No   3.1    245                          300          Dining\n",
      "50                                             Petoo           No         No   3.7     21                          450          Dining\n",
      "51                                  Shree Cool Point          Yes         No   4.1     28                          150          Dining\n",
      "52                            Corner House Ice Cream           No         No   4.3    345                          400          Dining\n",
      "53                                 Biryanis And More          Yes         No   4.0    618                          750          Dining\n",
      "54                                      Roving Feast           No         No   4.0   1047                          450          Dining\n",
      "55                                         FreshMenu          Yes         No   3.9    627                          450          Dining\n",
      "56                       Banashankari Donne Biriyani          Yes         No   3.8    104                          300          Dining\n",
      "57                                            Wamama          Yes        Yes   4.2    354                          800           other\n",
      "58                                 Five Star Chicken           No         No   3.6     55                          200          Dining\n",
      "59                                 XO Belgian Waffle          Yes         No   3.7     17                          400          Dining\n",
      "60                                     Peppy Peppers           No         No   4.2    244                          800           other\n",
      "61                                          Goa 0 Km          Yes        Yes   3.6    163                          800          Dining\n",
      "62                                   Chinese Kitchen          Yes         No   3.8     58                          150          Dining\n",
      "63                                   Jeet Restaurant           No        Yes   4.0    808                          850          Dining\n",
      "64                                   Cake of the Day           No         No   3.7     78                          150          Dining\n",
      "65                                       Kabab Magic          Yes         No   4.1   1720                          400          Dining\n",
      "66                              Namma Brahmin's Idli          Yes         No   3.6     34                          100          Dining\n",
      "67                                Gustoes Beer House           No         No   4.1    868                          700          Dining\n",
      "68                                        Sugar Rush           No         No   3.8     39                          300          Dining\n",
      "69                                       Burger King          Yes         No   3.2     71                          600          Dining\n",
      "70                                     The Good Bowl          Yes         No   3.6      6                          500          Dining\n",
      "71                                  The Biryani Cafe           No         No   4.1    520                          300          Dining\n",
      "72                                     Spicy Tandoor           No         No   4.1      0                          150          Dining\n",
      "73                                          LSD Cafe           No         No   2.9     84                          700           other\n",
      "74                                   Rolls On Wheels           No         No   3.6    299                          300          Dining\n",
      "75                             Om Sri Vinayaka Chats           No         No   3.6      0                          500          Dining\n",
      "76       Sri Guru Kottureshwara Davangere Benne Dosa          Yes         No   4.1    558                          150          Dining\n",
      "77                       Devanna Dum Biriyani Centre          Yes         No   3.6     28                          300          Dining\n",
      "78                                            Kolbeh           No         No   3.7     22                          500          Dining\n",
      "79                                      Upahar Sagar           No         No   3.8     39                          350          Dining\n",
      "80                        Kadalu Sea Food Restaurant          Yes         No   3.8    153                          500          Dining\n",
      "81                                     Frozen Bottle          Yes         No   4.2    146                          400          Dining\n",
      "82                                   Parimala Sweets           No         No   3.5     14                          200          Dining\n",
      "83                                   Vaishali Deluxe           No         No   3.8     42                          700          Dining\n",
      "84                                         Chill Out           No         No   3.8      0                          100          Dining\n",
      "85                                   The Big O Bakes           No         No   4.0     66                          300          Dining\n",
      "86                                     Meghana Foods          Yes         No   4.4   4401                          600          Dining\n",
      "87                                     Krishna Sagar           No         No   3.5     31                          200          Dining\n",
      "88                                      Dessert Rose           No         No   3.5      7                          500          Dining\n",
      "89                      Chickpet Donne Biryani House           No         No   3.7     21                          250          Dining\n",
      "90                                    Me And My Cake           No         No   3.7      0                          500          Dining\n",
      "91                                           Sunsadm           No         No   3.7      0                          400          Dining\n",
      "92                            Annapooraneshwari Mess           No         No   3.7      0                          200          Dining\n",
      "93                       Thanco's Natural Ice Creams           No         No   3.2      9                          300          Dining\n",
      "94                                   Nandhini Deluxe           No         No   2.6    283                          600          Dining\n",
      "95                        Vi Ra's Bar and Restaurant           No         No   3.3     62                          800          Dining\n",
      "96                                            Kaggis           No         No   3.8     64                          250          Dining\n",
      "97                              Ayda Persian Kitchen           No         No   3.7     39                          950          Dining\n",
      "98                                      Chatar Patar           No         No   3.7     65                          300          Dining\n",
      "99                                        Polar Bear          Yes         No   3.8     71                          400          Dining\n",
      "100                                Kidambi's Kitchen           No         No   3.5     52                          300          Dining\n",
      "101                                      Mane Thindi           No         No   3.7    130                          200          Dining\n",
      "102                       Kotian Karavali Restaurant           No         No   3.5     10                          300          Dining\n",
      "103                          Floured-Baked With Love           No         No   3.8     45                          400          Dining\n",
      "104                                        CAFE NOVA           No         No   3.2     11                          600          Dining\n",
      "105                                   Cakes & Slices           No         No   3.5     13                          300          Dining\n",
      "106                                          Spice 9           No         No   3.4      8                          300          Dining\n",
      "107                                    Coffee Shopee           No         No   3.4      0                          250          Dining\n",
      "108                     Naveen Kabab & Biriyani Mane           No         No   3.2      9                          300          Dining\n",
      "109                         Katriguppe Donne Biryani           No         No   3.2      4                          300          Dining\n",
      "110                              Hari Super Sandwich           No         No   3.2      0                          200          Dining\n",
      "111                       Atithi Point Ande Ka Funda           No         No   3.1     29                          150          Dining\n",
      "112                                        Just Bake           No         No   3.4      8                          400          Dining\n",
      "113                 Dharwad Line Bazaar Mishra Pedha           No         No   3.4      0                          150          Dining\n",
      "114                                        Cake Bite           No         No   3.4      0                          300          Dining\n",
      "115                              Aarush's Food Plaza           No         No   3.4      0                          200          Dining\n",
      "116                                       Wood Stove           No         No   3.4      0                          150          Dining\n",
      "117                                     Kulfi & More           No         No   3.4      0                          150          Dining\n",
      "118                              Kannadigas Karavali           No         No   3.4      0                          250          Dining\n",
      "119                                    K27 - The Pub           No         No   3.1     30                          900          Dining\n",
      "120                           Bengaluru Coffee House          Yes         No   4.1    201                          300          Dining\n",
      "121                         New Mangalore Lunch Home           No         No   3.3      7                          200          Dining\n",
      "122                                     Coffee Bytes           No         No   3.1      6                          100          Dining\n",
      "123                               Parjanya Chat Zone           No         No   3.3     17                          200          Dining\n",
      "124         Kwality Wall's Swirl's Happiness Station           No         No   2.9     25                          200          Dining\n",
      "125                             Soms Kitchen & Bakes           No         No   2.9      0                          400          Dining\n",
      "126                          Banashankari Nati Style           No         No   2.9      0                          350          Dining\n",
      "127                                    Ruchi Maayaka           No         No   3.3      8                          100          Dining\n",
      "128                                Mohitesh Hut Roll           No         No   3.3      0                          150          Dining\n",
      "129                Sri Basaveshwar Jolada Rotti Oota           No         No   3.4      0                          150          Dining\n",
      "130                             Roll Magic Fast Food           No         No   3.4      0                          200          Dining\n",
      "131                        Foodlieious Multi Cuisine           No         No   3.4      0                          100          Dining\n",
      "132                Thanishka Nati And Karavali Style           No         No   3.1      0                          400          Dining\n",
      "133                                Swathi Cool Point           No         No   4.1      0                          200          Dining\n",
      "134                                  Kaumudis Juoice           No         No   3.3      0                          150          Dining\n",
      "135                                     Amma - Manae           No         No   3.1      0                          400          Dining\n",
      "136                               Sri Sai Tiffannies           No         No   3.3      0                          150          Dining\n",
      "137                             Hotel Andhra Speices           No         No   2.9      0                          250          Dining\n",
      "138                     Sri Murari Family Restaurant           No         No   2.9      0                          250          Dining\n",
      "139                           Aramane Donne Biriyani           No         No   2.9      0                          150          Dining\n",
      "140                                       Darkolates           No         No   3.3      0                          200          Dining\n",
      "141                           Swaada Healthy Kitchen           No         No   3.3      0                          350          Dining\n",
      "142                            Gawdaru Mane Beriyani           No         No   3.3      0                          300          Dining\n",
      "143                                 Melting Melodies           No         No   3.3      0                          100          Dining\n",
      "144                                  New Indraprasta           No         No   3.3      0                          150          Dining\n",
      "145                                     Anna Kuteera          Yes         No   4.0    771                          450          Dining\n",
      "146                                           Darbar           No         No   3.0     98                          800          Dining\n",
      "147                                    Vijayalakshmi          Yes         No   3.9     47                          200          Dining\n"
     ]
    }
   ],
   "source": [
    "print(dataframe.to_string())"
   ]
  },
  {
   "cell_type": "code",
   "execution_count": 11,
   "metadata": {},
   "outputs": [
    {
     "data": {
      "text/html": [
       "<div>\n",
       "<style scoped>\n",
       "    .dataframe tbody tr th:only-of-type {\n",
       "        vertical-align: middle;\n",
       "    }\n",
       "\n",
       "    .dataframe tbody tr th {\n",
       "        vertical-align: top;\n",
       "    }\n",
       "\n",
       "    .dataframe thead th {\n",
       "        text-align: right;\n",
       "    }\n",
       "</style>\n",
       "<table border=\"1\" class=\"dataframe\">\n",
       "  <thead>\n",
       "    <tr style=\"text-align: right;\">\n",
       "      <th></th>\n",
       "      <th>name</th>\n",
       "      <th>online_order</th>\n",
       "      <th>book_table</th>\n",
       "      <th>rate</th>\n",
       "      <th>votes</th>\n",
       "      <th>approx_cost(for two people)</th>\n",
       "      <th>listed_in(type)</th>\n",
       "    </tr>\n",
       "  </thead>\n",
       "  <tbody>\n",
       "    <tr>\n",
       "      <th>0</th>\n",
       "      <td>Jalsa</td>\n",
       "      <td>Yes</td>\n",
       "      <td>Yes</td>\n",
       "      <td>4.1</td>\n",
       "      <td>775</td>\n",
       "      <td>800</td>\n",
       "      <td>Buffet</td>\n",
       "    </tr>\n",
       "    <tr>\n",
       "      <th>1</th>\n",
       "      <td>Spice Elephant</td>\n",
       "      <td>Yes</td>\n",
       "      <td>No</td>\n",
       "      <td>4.1</td>\n",
       "      <td>787</td>\n",
       "      <td>800</td>\n",
       "      <td>Buffet</td>\n",
       "    </tr>\n",
       "    <tr>\n",
       "      <th>2</th>\n",
       "      <td>San Churro Cafe</td>\n",
       "      <td>Yes</td>\n",
       "      <td>No</td>\n",
       "      <td>3.8</td>\n",
       "      <td>918</td>\n",
       "      <td>800</td>\n",
       "      <td>Buffet</td>\n",
       "    </tr>\n",
       "    <tr>\n",
       "      <th>3</th>\n",
       "      <td>Addhuri Udupi Bhojana</td>\n",
       "      <td>No</td>\n",
       "      <td>No</td>\n",
       "      <td>3.7</td>\n",
       "      <td>88</td>\n",
       "      <td>300</td>\n",
       "      <td>Buffet</td>\n",
       "    </tr>\n",
       "    <tr>\n",
       "      <th>4</th>\n",
       "      <td>Grand Village</td>\n",
       "      <td>No</td>\n",
       "      <td>No</td>\n",
       "      <td>3.8</td>\n",
       "      <td>166</td>\n",
       "      <td>600</td>\n",
       "      <td>Buffet</td>\n",
       "    </tr>\n",
       "  </tbody>\n",
       "</table>\n",
       "</div>"
      ],
      "text/plain": [
       "                    name online_order book_table  rate  votes  \\\n",
       "0                  Jalsa          Yes        Yes   4.1    775   \n",
       "1         Spice Elephant          Yes         No   4.1    787   \n",
       "2        San Churro Cafe          Yes         No   3.8    918   \n",
       "3  Addhuri Udupi Bhojana           No         No   3.7     88   \n",
       "4          Grand Village           No         No   3.8    166   \n",
       "\n",
       "   approx_cost(for two people) listed_in(type)  \n",
       "0                          800          Buffet  \n",
       "1                          800          Buffet  \n",
       "2                          800          Buffet  \n",
       "3                          300          Buffet  \n",
       "4                          600          Buffet  "
      ]
     },
     "execution_count": 11,
     "metadata": {},
     "output_type": "execute_result"
    }
   ],
   "source": [
    "dataframe.head()"
   ]
  },
  {
   "cell_type": "code",
   "execution_count": 16,
   "metadata": {},
   "outputs": [
    {
     "data": {
      "text/plain": [
       "Text(0, 0.5, 'Votes')"
      ]
     },
     "execution_count": 16,
     "metadata": {},
     "output_type": "execute_result"
    },
    {
     "data": {
      "image/png": "[encoded data removed]",
      "text/plain": [
       "<Figure size 640x480 with 1 Axes>"
      ]
     },
     "metadata": {},
     "output_type": "display_data"
    }
   ],
   "source": [
    "grouped_data=dataframe.groupby(\"listed_in(type)\")['votes'].sum() #different categories in listed_in(type) sum\n",
    "result=pd.DataFrame({'votes':grouped_data})\n",
    "plt.plot(result,c=\"green\",marker=\"o\") #,o:r\n",
    "plt.xlabel(\"Type of restraunt\" ,c=\"b\",size=20)\n",
    "plt.ylabel(\"Votes\",c=\"b\",size=15)"
   ]
  },
  {
   "cell_type": "markdown",
   "metadata": {},
   "source": [
    "# conclusion-dining restraunts has received maximun votes"
   ]
  },
  {
   "cell_type": "code",
   "execution_count": 24,
   "metadata": {},
   "outputs": [
    {
     "data": {
      "image/png": "[encoded data removed]",
      "text/plain": [
       "<Figure size 640x480 with 1 Axes>"
      ]
     },
     "metadata": {},
     "output_type": "display_data"
    }
   ],
   "source": [
    "plt.hist(dataframe['rate'],bins=5)\n",
    "plt.title(\"ratings distribution\")\n",
    "plt.show()\n"
   ]
  },
  {
   "cell_type": "markdown",
   "metadata": {},
   "source": [
    "# concusion-majority restaurants received ratings between 4.00 to 4.25 "
   ]
  },
  {
   "cell_type": "markdown",
   "metadata": {},
   "source": [
    "# Average order spending by couples"
   ]
  },
  {
   "cell_type": "code",
   "execution_count": 25,
   "metadata": {},
   "outputs": [
    {
     "data": {
      "text/html": [
       "<div>\n",
       "<style scoped>\n",
       "    .dataframe tbody tr th:only-of-type {\n",
       "        vertical-align: middle;\n",
       "    }\n",
       "\n",
       "    .dataframe tbody tr th {\n",
       "        vertical-align: top;\n",
       "    }\n",
       "\n",
       "    .dataframe thead th {\n",
       "        text-align: right;\n",
       "    }\n",
       "</style>\n",
       "<table border=\"1\" class=\"dataframe\">\n",
       "  <thead>\n",
       "    <tr style=\"text-align: right;\">\n",
       "      <th></th>\n",
       "      <th>name</th>\n",
       "      <th>online_order</th>\n",
       "      <th>book_table</th>\n",
       "      <th>rate</th>\n",
       "      <th>votes</th>\n",
       "      <th>approx_cost(for two people)</th>\n",
       "      <th>listed_in(type)</th>\n",
       "    </tr>\n",
       "  </thead>\n",
       "  <tbody>\n",
       "    <tr>\n",
       "      <th>0</th>\n",
       "      <td>Jalsa</td>\n",
       "      <td>Yes</td>\n",
       "      <td>Yes</td>\n",
       "      <td>4.1</td>\n",
       "      <td>775</td>\n",
       "      <td>800</td>\n",
       "      <td>Buffet</td>\n",
       "    </tr>\n",
       "    <tr>\n",
       "      <th>1</th>\n",
       "      <td>Spice Elephant</td>\n",
       "      <td>Yes</td>\n",
       "      <td>No</td>\n",
       "      <td>4.1</td>\n",
       "      <td>787</td>\n",
       "      <td>800</td>\n",
       "      <td>Buffet</td>\n",
       "    </tr>\n",
       "    <tr>\n",
       "      <th>2</th>\n",
       "      <td>San Churro Cafe</td>\n",
       "      <td>Yes</td>\n",
       "      <td>No</td>\n",
       "      <td>3.8</td>\n",
       "      <td>918</td>\n",
       "      <td>800</td>\n",
       "      <td>Buffet</td>\n",
       "    </tr>\n",
       "    <tr>\n",
       "      <th>3</th>\n",
       "      <td>Addhuri Udupi Bhojana</td>\n",
       "      <td>No</td>\n",
       "      <td>No</td>\n",
       "      <td>3.7</td>\n",
       "      <td>88</td>\n",
       "      <td>300</td>\n",
       "      <td>Buffet</td>\n",
       "    </tr>\n",
       "    <tr>\n",
       "      <th>4</th>\n",
       "      <td>Grand Village</td>\n",
       "      <td>No</td>\n",
       "      <td>No</td>\n",
       "      <td>3.8</td>\n",
       "      <td>166</td>\n",
       "      <td>600</td>\n",
       "      <td>Buffet</td>\n",
       "    </tr>\n",
       "  </tbody>\n",
       "</table>\n",
       "</div>"
      ],
      "text/plain": [
       "                    name online_order book_table  rate  votes  \\\n",
       "0                  Jalsa          Yes        Yes   4.1    775   \n",
       "1         Spice Elephant          Yes         No   4.1    787   \n",
       "2        San Churro Cafe          Yes         No   3.8    918   \n",
       "3  Addhuri Udupi Bhojana           No         No   3.7     88   \n",
       "4          Grand Village           No         No   3.8    166   \n",
       "\n",
       "   approx_cost(for two people) listed_in(type)  \n",
       "0                          800          Buffet  \n",
       "1                          800          Buffet  \n",
       "2                          800          Buffet  \n",
       "3                          300          Buffet  \n",
       "4                          600          Buffet  "
      ]
     },
     "execution_count": 25,
     "metadata": {},
     "output_type": "execute_result"
    }
   ],
   "source": [
    "dataframe.head()"
   ]
  },
  {
   "cell_type": "code",
   "execution_count": 26,
   "metadata": {},
   "outputs": [
    {
     "data": {
      "text/plain": [
       "<Axes: xlabel='approx_cost(for two people)', ylabel='count'>"
      ]
     },
     "execution_count": 26,
     "metadata": {},
     "output_type": "execute_result"
    },
    {
     "data": {
      "image/png": "[encoded data removed]",
      "text/plain": [
       "<Figure size 640x480 with 1 Axes>"
      ]
     },
     "metadata": {},
     "output_type": "display_data"
    }
   ],
   "source": [
    "sns.countplot(x=dataframe[\"approx_cost(for two people)\"])"
   ]
  },
  {
   "cell_type": "markdown",
   "metadata": {},
   "source": [
    "# Conclusion-majority of couples prefer restraunts with an approximation cost of 300 rupees"
   ]
  },
  {
   "cell_type": "markdown",
   "metadata": {},
   "source": [
    "# whch mode receives maximun rating"
   ]
  },
  {
   "cell_type": "code",
   "execution_count": 27,
   "metadata": {},
   "outputs": [
    {
     "data": {
      "text/html": [
       "<div>\n",
       "<style scoped>\n",
       "    .dataframe tbody tr th:only-of-type {\n",
       "        vertical-align: middle;\n",
       "    }\n",
       "\n",
       "    .dataframe tbody tr th {\n",
       "        vertical-align: top;\n",
       "    }\n",
       "\n",
       "    .dataframe thead th {\n",
       "        text-align: right;\n",
       "    }\n",
       "</style>\n",
       "<table border=\"1\" class=\"dataframe\">\n",
       "  <thead>\n",
       "    <tr style=\"text-align: right;\">\n",
       "      <th></th>\n",
       "      <th>name</th>\n",
       "      <th>online_order</th>\n",
       "      <th>book_table</th>\n",
       "      <th>rate</th>\n",
       "      <th>votes</th>\n",
       "      <th>approx_cost(for two people)</th>\n",
       "      <th>listed_in(type)</th>\n",
       "    </tr>\n",
       "  </thead>\n",
       "  <tbody>\n",
       "    <tr>\n",
       "      <th>0</th>\n",
       "      <td>Jalsa</td>\n",
       "      <td>Yes</td>\n",
       "      <td>Yes</td>\n",
       "      <td>4.1</td>\n",
       "      <td>775</td>\n",
       "      <td>800</td>\n",
       "      <td>Buffet</td>\n",
       "    </tr>\n",
       "    <tr>\n",
       "      <th>1</th>\n",
       "      <td>Spice Elephant</td>\n",
       "      <td>Yes</td>\n",
       "      <td>No</td>\n",
       "      <td>4.1</td>\n",
       "      <td>787</td>\n",
       "      <td>800</td>\n",
       "      <td>Buffet</td>\n",
       "    </tr>\n",
       "    <tr>\n",
       "      <th>2</th>\n",
       "      <td>San Churro Cafe</td>\n",
       "      <td>Yes</td>\n",
       "      <td>No</td>\n",
       "      <td>3.8</td>\n",
       "      <td>918</td>\n",
       "      <td>800</td>\n",
       "      <td>Buffet</td>\n",
       "    </tr>\n",
       "    <tr>\n",
       "      <th>3</th>\n",
       "      <td>Addhuri Udupi Bhojana</td>\n",
       "      <td>No</td>\n",
       "      <td>No</td>\n",
       "      <td>3.7</td>\n",
       "      <td>88</td>\n",
       "      <td>300</td>\n",
       "      <td>Buffet</td>\n",
       "    </tr>\n",
       "    <tr>\n",
       "      <th>4</th>\n",
       "      <td>Grand Village</td>\n",
       "      <td>No</td>\n",
       "      <td>No</td>\n",
       "      <td>3.8</td>\n",
       "      <td>166</td>\n",
       "      <td>600</td>\n",
       "      <td>Buffet</td>\n",
       "    </tr>\n",
       "  </tbody>\n",
       "</table>\n",
       "</div>"
      ],
      "text/plain": [
       "                    name online_order book_table  rate  votes  \\\n",
       "0                  Jalsa          Yes        Yes   4.1    775   \n",
       "1         Spice Elephant          Yes         No   4.1    787   \n",
       "2        San Churro Cafe          Yes         No   3.8    918   \n",
       "3  Addhuri Udupi Bhojana           No         No   3.7     88   \n",
       "4          Grand Village           No         No   3.8    166   \n",
       "\n",
       "   approx_cost(for two people) listed_in(type)  \n",
       "0                          800          Buffet  \n",
       "1                          800          Buffet  \n",
       "2                          800          Buffet  \n",
       "3                          300          Buffet  \n",
       "4                          600          Buffet  "
      ]
     },
     "execution_count": 27,
     "metadata": {},
     "output_type": "execute_result"
    }
   ],
   "source": [
    "dataframe.head()"
   ]
  },
  {
   "cell_type": "code",
   "execution_count": 28,
   "metadata": {},
   "outputs": [
    {
     "data": {
      "text/plain": [
       "<Axes: xlabel='online_order', ylabel='rate'>"
      ]
     },
     "execution_count": 28,
     "metadata": {},
     "output_type": "execute_result"
    },
    {
     "data": {
      "image/png": "[encoded data removed]",
      "text/plain": [
       "<Figure size 600x600 with 1 Axes>"
      ]
     },
     "metadata": {},
     "output_type": "display_data"
    }
   ],
   "source": [
    "plt.figure(figsize=(6,6))\n",
    "sns.boxplot(x=\"online_order\",y=\"rate\",data=dataframe)"
   ]
  },
  {
   "cell_type": "markdown",
   "metadata": {},
   "source": [
    "# conclusion-offline order received lower rating in comparison to online order"
   ]
  },
  {
   "cell_type": "code",
   "execution_count": 32,
   "metadata": {},
   "outputs": [
    {
     "data": {
      "image/png": "[encoded data removed]",
      "text/plain": [
       "<Figure size 640x480 with 2 Axes>"
      ]
     },
     "metadata": {},
     "output_type": "display_data"
    }
   ],
   "source": [
    "pivot_table=dataframe.pivot_table(index='listed_in(type)',columns='online_order',aggfunc='size',fill_value=0)\n",
    "sns.heatmap(pivot_table,annot=True,cmap=\"YlGnBu\",fmt='d')\n",
    "plt.title(\"Heatmap\")\n",
    "plt.xlabel(\"Online Order\")\n",
    "plt.show()"
   ]
  },
  {
   "cell_type": "markdown",
   "metadata": {},
   "source": [
    "# conclusion:Dining restraunts primarily accept offline orders,whereas cafes primarily receive online orders.This suggest that clients prefer orders in person at restraunts ,but prefer online ordering at cafes"
   ]
  }
 ],
 "metadata": {
  "kernelspec": {
   "display_name": ".venv",
   "language": "python",
   "name": "python3"
  },
  "language_info": {
   "codemirror_mode": {
    "name": "ipython",
    "version": 3
   },
   "file_extension": ".py",
   "mimetype": "text/x-python",
   "name": "python",
   "nbconvert_exporter": "python",
   "pygments_lexer": "ipython3",
   "version": "3.12.6"
  }
 },
 "nbformat": 4,
 "nbformat_minor": 2
}
